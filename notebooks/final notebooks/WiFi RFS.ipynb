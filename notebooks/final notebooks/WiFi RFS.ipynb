{
 "cells": [
  {
   "cell_type": "code",
   "execution_count": 1,
   "metadata": {},
   "outputs": [],
   "source": [
    "import pandas as pd\n",
    "import numpy as np\n",
    "import pandas as pd\n",
    "from sklearn.cluster import KMeans\n",
    "import matplotlib.pyplot as plt"
   ]
  },
  {
   "cell_type": "code",
   "execution_count": 2,
   "metadata": {},
   "outputs": [],
   "source": [
    "df = pd.read_csv('../data/daily_wifi.csv')"
   ]
  },
  {
   "cell_type": "code",
   "execution_count": 3,
   "metadata": {},
   "outputs": [
    {
     "data": {
      "text/html": [
       "<div>\n",
       "<style scoped>\n",
       "    .dataframe tbody tr th:only-of-type {\n",
       "        vertical-align: middle;\n",
       "    }\n",
       "\n",
       "    .dataframe tbody tr th {\n",
       "        vertical-align: top;\n",
       "    }\n",
       "\n",
       "    .dataframe thead th {\n",
       "        text-align: right;\n",
       "    }\n",
       "</style>\n",
       "<table border=\"1\" class=\"dataframe\">\n",
       "  <thead>\n",
       "    <tr style=\"text-align: right;\">\n",
       "      <th></th>\n",
       "      <th>date</th>\n",
       "      <th>mac</th>\n",
       "      <th>detections</th>\n",
       "      <th>signal_strength</th>\n",
       "      <th>last_detected</th>\n",
       "      <th>first_detected</th>\n",
       "      <th>seconds</th>\n",
       "    </tr>\n",
       "  </thead>\n",
       "  <tbody>\n",
       "    <tr>\n",
       "      <th>0</th>\n",
       "      <td>2018-10-06</td>\n",
       "      <td>PjOOBPVR73guI8UfnwkfCA==</td>\n",
       "      <td>419</td>\n",
       "      <td>50</td>\n",
       "      <td>2018-10-06 22:46:00</td>\n",
       "      <td>2018-10-06 21:29:00</td>\n",
       "      <td>11700</td>\n",
       "    </tr>\n",
       "    <tr>\n",
       "      <th>1</th>\n",
       "      <td>2018-10-26</td>\n",
       "      <td>PjOOBPVR73guI8UfnwkfCA==</td>\n",
       "      <td>145</td>\n",
       "      <td>52</td>\n",
       "      <td>2018-10-26 22:46:00</td>\n",
       "      <td>2018-10-26 22:16:00</td>\n",
       "      <td>3000</td>\n",
       "    </tr>\n",
       "    <tr>\n",
       "      <th>2</th>\n",
       "      <td>2018-05-08</td>\n",
       "      <td>wxMfL3C1oVnPDyKPeW9OIA==</td>\n",
       "      <td>87</td>\n",
       "      <td>68</td>\n",
       "      <td>2018-05-08 11:31:00</td>\n",
       "      <td>2018-05-08 11:16:00</td>\n",
       "      <td>1500</td>\n",
       "    </tr>\n",
       "    <tr>\n",
       "      <th>3</th>\n",
       "      <td>2018-05-08</td>\n",
       "      <td>LU8KXGRwrZYQSBXyZHYTZQ==</td>\n",
       "      <td>85</td>\n",
       "      <td>70</td>\n",
       "      <td>2018-05-08 11:31:00</td>\n",
       "      <td>2018-05-08 11:16:00</td>\n",
       "      <td>1500</td>\n",
       "    </tr>\n",
       "    <tr>\n",
       "      <th>4</th>\n",
       "      <td>2018-05-08</td>\n",
       "      <td>oVqI+pIguLG/djxsq7WGLQ==</td>\n",
       "      <td>84</td>\n",
       "      <td>68</td>\n",
       "      <td>2018-05-08 11:31:00</td>\n",
       "      <td>2018-05-08 11:16:00</td>\n",
       "      <td>1500</td>\n",
       "    </tr>\n",
       "  </tbody>\n",
       "</table>\n",
       "</div>"
      ],
      "text/plain": [
       "         date                       mac  detections  signal_strength  \\\n",
       "0  2018-10-06  PjOOBPVR73guI8UfnwkfCA==         419               50   \n",
       "1  2018-10-26  PjOOBPVR73guI8UfnwkfCA==         145               52   \n",
       "2  2018-05-08  wxMfL3C1oVnPDyKPeW9OIA==          87               68   \n",
       "3  2018-05-08  LU8KXGRwrZYQSBXyZHYTZQ==          85               70   \n",
       "4  2018-05-08  oVqI+pIguLG/djxsq7WGLQ==          84               68   \n",
       "\n",
       "         last_detected       first_detected  seconds  \n",
       "0  2018-10-06 22:46:00  2018-10-06 21:29:00    11700  \n",
       "1  2018-10-26 22:46:00  2018-10-26 22:16:00     3000  \n",
       "2  2018-05-08 11:31:00  2018-05-08 11:16:00     1500  \n",
       "3  2018-05-08 11:31:00  2018-05-08 11:16:00     1500  \n",
       "4  2018-05-08 11:31:00  2018-05-08 11:16:00     1500  "
      ]
     },
     "execution_count": 3,
     "metadata": {},
     "output_type": "execute_result"
    }
   ],
   "source": [
    "df.head()"
   ]
  },
  {
   "cell_type": "markdown",
   "metadata": {},
   "source": [
    "Filter stays longer than 4 hours and shorter than 5 minutes."
   ]
  },
  {
   "cell_type": "code",
   "execution_count": 4,
   "metadata": {},
   "outputs": [],
   "source": [
    "filteredMacs = df[np.logical_and(df['seconds'] < 4*3600, df['seconds'] > 300)]"
   ]
  },
  {
   "cell_type": "code",
   "execution_count": 5,
   "metadata": {
    "scrolled": true
   },
   "outputs": [
    {
     "data": {
      "text/html": [
       "<div>\n",
       "<style scoped>\n",
       "    .dataframe tbody tr th:only-of-type {\n",
       "        vertical-align: middle;\n",
       "    }\n",
       "\n",
       "    .dataframe tbody tr th {\n",
       "        vertical-align: top;\n",
       "    }\n",
       "\n",
       "    .dataframe thead th {\n",
       "        text-align: right;\n",
       "    }\n",
       "</style>\n",
       "<table border=\"1\" class=\"dataframe\">\n",
       "  <thead>\n",
       "    <tr style=\"text-align: right;\">\n",
       "      <th></th>\n",
       "      <th>date</th>\n",
       "      <th>mac</th>\n",
       "      <th>detections</th>\n",
       "      <th>signal_strength</th>\n",
       "      <th>last_detected</th>\n",
       "      <th>first_detected</th>\n",
       "      <th>seconds</th>\n",
       "    </tr>\n",
       "  </thead>\n",
       "  <tbody>\n",
       "    <tr>\n",
       "      <th>0</th>\n",
       "      <td>2018-10-06</td>\n",
       "      <td>PjOOBPVR73guI8UfnwkfCA==</td>\n",
       "      <td>419</td>\n",
       "      <td>50</td>\n",
       "      <td>2018-10-06 22:46:00</td>\n",
       "      <td>2018-10-06 21:29:00</td>\n",
       "      <td>11700</td>\n",
       "    </tr>\n",
       "    <tr>\n",
       "      <th>1</th>\n",
       "      <td>2018-10-26</td>\n",
       "      <td>PjOOBPVR73guI8UfnwkfCA==</td>\n",
       "      <td>145</td>\n",
       "      <td>52</td>\n",
       "      <td>2018-10-26 22:46:00</td>\n",
       "      <td>2018-10-26 22:16:00</td>\n",
       "      <td>3000</td>\n",
       "    </tr>\n",
       "    <tr>\n",
       "      <th>2</th>\n",
       "      <td>2018-05-08</td>\n",
       "      <td>wxMfL3C1oVnPDyKPeW9OIA==</td>\n",
       "      <td>87</td>\n",
       "      <td>68</td>\n",
       "      <td>2018-05-08 11:31:00</td>\n",
       "      <td>2018-05-08 11:16:00</td>\n",
       "      <td>1500</td>\n",
       "    </tr>\n",
       "    <tr>\n",
       "      <th>3</th>\n",
       "      <td>2018-05-08</td>\n",
       "      <td>LU8KXGRwrZYQSBXyZHYTZQ==</td>\n",
       "      <td>85</td>\n",
       "      <td>70</td>\n",
       "      <td>2018-05-08 11:31:00</td>\n",
       "      <td>2018-05-08 11:16:00</td>\n",
       "      <td>1500</td>\n",
       "    </tr>\n",
       "    <tr>\n",
       "      <th>4</th>\n",
       "      <td>2018-05-08</td>\n",
       "      <td>oVqI+pIguLG/djxsq7WGLQ==</td>\n",
       "      <td>84</td>\n",
       "      <td>68</td>\n",
       "      <td>2018-05-08 11:31:00</td>\n",
       "      <td>2018-05-08 11:16:00</td>\n",
       "      <td>1500</td>\n",
       "    </tr>\n",
       "  </tbody>\n",
       "</table>\n",
       "</div>"
      ],
      "text/plain": [
       "         date                       mac  detections  signal_strength  \\\n",
       "0  2018-10-06  PjOOBPVR73guI8UfnwkfCA==         419               50   \n",
       "1  2018-10-26  PjOOBPVR73guI8UfnwkfCA==         145               52   \n",
       "2  2018-05-08  wxMfL3C1oVnPDyKPeW9OIA==          87               68   \n",
       "3  2018-05-08  LU8KXGRwrZYQSBXyZHYTZQ==          85               70   \n",
       "4  2018-05-08  oVqI+pIguLG/djxsq7WGLQ==          84               68   \n",
       "\n",
       "         last_detected       first_detected  seconds  \n",
       "0  2018-10-06 22:46:00  2018-10-06 21:29:00    11700  \n",
       "1  2018-10-26 22:46:00  2018-10-26 22:16:00     3000  \n",
       "2  2018-05-08 11:31:00  2018-05-08 11:16:00     1500  \n",
       "3  2018-05-08 11:31:00  2018-05-08 11:16:00     1500  \n",
       "4  2018-05-08 11:31:00  2018-05-08 11:16:00     1500  "
      ]
     },
     "execution_count": 5,
     "metadata": {},
     "output_type": "execute_result"
    }
   ],
   "source": [
    "filteredMacs.head()"
   ]
  },
  {
   "cell_type": "code",
   "execution_count": 6,
   "metadata": {},
   "outputs": [],
   "source": [
    "aggregations = filteredMacs.groupby('mac').agg({'seconds' : ['sum','max','mean'], 'detections' : ['count'],'last_detected':['max']})\n"
   ]
  },
  {
   "cell_type": "code",
   "execution_count": 7,
   "metadata": {},
   "outputs": [],
   "source": [
    "aggregations.columns = ['_'.join(col).strip() for col in aggregations.columns.values]"
   ]
  },
  {
   "cell_type": "code",
   "execution_count": 8,
   "metadata": {},
   "outputs": [
    {
     "data": {
      "text/html": [
       "<div>\n",
       "<style scoped>\n",
       "    .dataframe tbody tr th:only-of-type {\n",
       "        vertical-align: middle;\n",
       "    }\n",
       "\n",
       "    .dataframe tbody tr th {\n",
       "        vertical-align: top;\n",
       "    }\n",
       "\n",
       "    .dataframe thead th {\n",
       "        text-align: right;\n",
       "    }\n",
       "</style>\n",
       "<table border=\"1\" class=\"dataframe\">\n",
       "  <thead>\n",
       "    <tr style=\"text-align: right;\">\n",
       "      <th></th>\n",
       "      <th>seconds_sum</th>\n",
       "      <th>seconds_max</th>\n",
       "      <th>seconds_mean</th>\n",
       "      <th>detections_count</th>\n",
       "      <th>last_detected_max</th>\n",
       "    </tr>\n",
       "    <tr>\n",
       "      <th>mac</th>\n",
       "      <th></th>\n",
       "      <th></th>\n",
       "      <th></th>\n",
       "      <th></th>\n",
       "      <th></th>\n",
       "    </tr>\n",
       "  </thead>\n",
       "  <tbody>\n",
       "    <tr>\n",
       "      <th>+8s9FVOE/OsSVhjIY5RNXg==</th>\n",
       "      <td>4400</td>\n",
       "      <td>4400</td>\n",
       "      <td>4400.000000</td>\n",
       "      <td>1</td>\n",
       "      <td>2018-07-10 10:02:00</td>\n",
       "    </tr>\n",
       "    <tr>\n",
       "      <th>+G820S6yIyVwks68tUlOug==</th>\n",
       "      <td>500</td>\n",
       "      <td>500</td>\n",
       "      <td>500.000000</td>\n",
       "      <td>1</td>\n",
       "      <td>2018-10-16 07:14:00</td>\n",
       "    </tr>\n",
       "    <tr>\n",
       "      <th>+M57VBg70V19n6z/lgFzgQ==</th>\n",
       "      <td>8400</td>\n",
       "      <td>8400</td>\n",
       "      <td>8400.000000</td>\n",
       "      <td>1</td>\n",
       "      <td>2018-07-10 14:37:00</td>\n",
       "    </tr>\n",
       "    <tr>\n",
       "      <th>+ZHWu5o4oScrbBVc8INkCg==</th>\n",
       "      <td>400</td>\n",
       "      <td>400</td>\n",
       "      <td>400.000000</td>\n",
       "      <td>1</td>\n",
       "      <td>2018-05-10 13:28:00</td>\n",
       "    </tr>\n",
       "    <tr>\n",
       "      <th>+nis6ew2FVYaFhQmp7NyNg==</th>\n",
       "      <td>9300</td>\n",
       "      <td>9300</td>\n",
       "      <td>9300.000000</td>\n",
       "      <td>1</td>\n",
       "      <td>2018-11-21 11:50:00</td>\n",
       "    </tr>\n",
       "    <tr>\n",
       "      <th>+oR33EJbsNuueAlOT0kECh06P02XDKYl</th>\n",
       "      <td>11900</td>\n",
       "      <td>11900</td>\n",
       "      <td>11900.000000</td>\n",
       "      <td>1</td>\n",
       "      <td>2018-07-09 13:35:00</td>\n",
       "    </tr>\n",
       "    <tr>\n",
       "      <th>/G2WXOLtCJ8SVhjIY5RNXg==</th>\n",
       "      <td>9800</td>\n",
       "      <td>9800</td>\n",
       "      <td>9800.000000</td>\n",
       "      <td>1</td>\n",
       "      <td>2019-01-29 14:07:00</td>\n",
       "    </tr>\n",
       "    <tr>\n",
       "      <th>/Sp2HlKM5TkK0jYrt1N+tg==</th>\n",
       "      <td>400</td>\n",
       "      <td>400</td>\n",
       "      <td>400.000000</td>\n",
       "      <td>1</td>\n",
       "      <td>2018-07-16 09:34:00</td>\n",
       "    </tr>\n",
       "    <tr>\n",
       "      <th>09ytMg66asF8MfuPZWI/Yw==</th>\n",
       "      <td>8500</td>\n",
       "      <td>8500</td>\n",
       "      <td>8500.000000</td>\n",
       "      <td>1</td>\n",
       "      <td>2019-01-12 20:17:00</td>\n",
       "    </tr>\n",
       "    <tr>\n",
       "      <th>0RSCxGUqOYUuI8UfnwkfCA==</th>\n",
       "      <td>10700</td>\n",
       "      <td>10700</td>\n",
       "      <td>10700.000000</td>\n",
       "      <td>1</td>\n",
       "      <td>2018-05-11 07:57:00</td>\n",
       "    </tr>\n",
       "    <tr>\n",
       "      <th>0XJUQi2+hdCxZaqUO4QL/w==</th>\n",
       "      <td>6500</td>\n",
       "      <td>6500</td>\n",
       "      <td>6500.000000</td>\n",
       "      <td>1</td>\n",
       "      <td>2018-05-11 14:03:00</td>\n",
       "    </tr>\n",
       "    <tr>\n",
       "      <th>18cxEyaI5dFBy4icC+7Ziw==</th>\n",
       "      <td>4800</td>\n",
       "      <td>4800</td>\n",
       "      <td>4800.000000</td>\n",
       "      <td>1</td>\n",
       "      <td>2018-11-21 08:06:00</td>\n",
       "    </tr>\n",
       "    <tr>\n",
       "      <th>1FbyYeswOVUu7gPVQRvTew==</th>\n",
       "      <td>10300</td>\n",
       "      <td>10300</td>\n",
       "      <td>10300.000000</td>\n",
       "      <td>1</td>\n",
       "      <td>2018-10-04 10:58:00</td>\n",
       "    </tr>\n",
       "    <tr>\n",
       "      <th>1MLb9idmRbkcGvpM1H3zTA==</th>\n",
       "      <td>8600</td>\n",
       "      <td>8600</td>\n",
       "      <td>8600.000000</td>\n",
       "      <td>1</td>\n",
       "      <td>2018-10-06 02:01:00</td>\n",
       "    </tr>\n",
       "    <tr>\n",
       "      <th>1Q1zz6EEeuVoUbgf9v8gYw==</th>\n",
       "      <td>18500</td>\n",
       "      <td>10400</td>\n",
       "      <td>4625.000000</td>\n",
       "      <td>4</td>\n",
       "      <td>2019-01-12 20:50:00</td>\n",
       "    </tr>\n",
       "    <tr>\n",
       "      <th>1SQiTbAEi1FoGz58aidUiQ==</th>\n",
       "      <td>7100</td>\n",
       "      <td>7100</td>\n",
       "      <td>7100.000000</td>\n",
       "      <td>1</td>\n",
       "      <td>2019-01-11 10:26:00</td>\n",
       "    </tr>\n",
       "    <tr>\n",
       "      <th>1aeCdwv4PNbNtQ7gQ4347A==</th>\n",
       "      <td>400</td>\n",
       "      <td>400</td>\n",
       "      <td>400.000000</td>\n",
       "      <td>1</td>\n",
       "      <td>2018-11-23 15:52:00</td>\n",
       "    </tr>\n",
       "    <tr>\n",
       "      <th>21fd/jvaDj8SVhjIY5RNXg==</th>\n",
       "      <td>4200</td>\n",
       "      <td>4200</td>\n",
       "      <td>4200.000000</td>\n",
       "      <td>1</td>\n",
       "      <td>2018-10-04 14:44:00</td>\n",
       "    </tr>\n",
       "    <tr>\n",
       "      <th>24c/eH3s66uRjZJIP2pOyw==</th>\n",
       "      <td>600</td>\n",
       "      <td>600</td>\n",
       "      <td>600.000000</td>\n",
       "      <td>1</td>\n",
       "      <td>2018-07-12 08:08:00</td>\n",
       "    </tr>\n",
       "    <tr>\n",
       "      <th>2DQYTy+QrNDyzYubXYypeQ==</th>\n",
       "      <td>3700</td>\n",
       "      <td>3700</td>\n",
       "      <td>3700.000000</td>\n",
       "      <td>1</td>\n",
       "      <td>2018-10-01 14:44:00</td>\n",
       "    </tr>\n",
       "    <tr>\n",
       "      <th>33J/Q4rokmOZcYyuv65uhg==</th>\n",
       "      <td>10200</td>\n",
       "      <td>10200</td>\n",
       "      <td>10200.000000</td>\n",
       "      <td>1</td>\n",
       "      <td>2018-07-10 14:03:00</td>\n",
       "    </tr>\n",
       "    <tr>\n",
       "      <th>34rVCqHvKMNM7OTum+cZjA==</th>\n",
       "      <td>2900</td>\n",
       "      <td>2900</td>\n",
       "      <td>2900.000000</td>\n",
       "      <td>1</td>\n",
       "      <td>2018-11-21 12:55:00</td>\n",
       "    </tr>\n",
       "    <tr>\n",
       "      <th>3o3656ZqQ6Y6PU9h8jWhcQ==</th>\n",
       "      <td>4400</td>\n",
       "      <td>4400</td>\n",
       "      <td>4400.000000</td>\n",
       "      <td>1</td>\n",
       "      <td>2019-03-07 22:02:00</td>\n",
       "    </tr>\n",
       "    <tr>\n",
       "      <th>46YRFhDspfOeOvB9HqP5twbfpgeA9CH3</th>\n",
       "      <td>9100</td>\n",
       "      <td>9100</td>\n",
       "      <td>9100.000000</td>\n",
       "      <td>1</td>\n",
       "      <td>2018-11-26 07:26:00</td>\n",
       "    </tr>\n",
       "    <tr>\n",
       "      <th>4DgMJLW7NV2SalLeJ6DGGg==</th>\n",
       "      <td>5900</td>\n",
       "      <td>5900</td>\n",
       "      <td>5900.000000</td>\n",
       "      <td>1</td>\n",
       "      <td>2019-02-28 18:04:00</td>\n",
       "    </tr>\n",
       "    <tr>\n",
       "      <th>4HVhijEdFPw1pLwfmY31bAbfpgeA9CH3</th>\n",
       "      <td>1300</td>\n",
       "      <td>1300</td>\n",
       "      <td>1300.000000</td>\n",
       "      <td>1</td>\n",
       "      <td>2019-01-29 20:37:00</td>\n",
       "    </tr>\n",
       "    <tr>\n",
       "      <th>4LPoUa7imqI5iEzdKKq9kw==</th>\n",
       "      <td>34500</td>\n",
       "      <td>10000</td>\n",
       "      <td>4928.571429</td>\n",
       "      <td>7</td>\n",
       "      <td>2018-12-24 15:55:00</td>\n",
       "    </tr>\n",
       "    <tr>\n",
       "      <th>4aTonq4gmQweBUgxNs2lhA==</th>\n",
       "      <td>5900</td>\n",
       "      <td>5900</td>\n",
       "      <td>5900.000000</td>\n",
       "      <td>1</td>\n",
       "      <td>2018-11-10 22:10:00</td>\n",
       "    </tr>\n",
       "    <tr>\n",
       "      <th>4xjedivUl+z9+jSlJ5uQvA==</th>\n",
       "      <td>9900</td>\n",
       "      <td>9900</td>\n",
       "      <td>9900.000000</td>\n",
       "      <td>1</td>\n",
       "      <td>2018-12-01 22:06:00</td>\n",
       "    </tr>\n",
       "    <tr>\n",
       "      <th>57zas/dyRDgjI7AKqTwsZg==</th>\n",
       "      <td>20600</td>\n",
       "      <td>9600</td>\n",
       "      <td>5150.000000</td>\n",
       "      <td>4</td>\n",
       "      <td>2019-01-24 17:13:00</td>\n",
       "    </tr>\n",
       "    <tr>\n",
       "      <th>...</th>\n",
       "      <td>...</td>\n",
       "      <td>...</td>\n",
       "      <td>...</td>\n",
       "      <td>...</td>\n",
       "      <td>...</td>\n",
       "    </tr>\n",
       "    <tr>\n",
       "      <th>xyW36xj3Rs5XxOUHhqLEUg==</th>\n",
       "      <td>1700</td>\n",
       "      <td>1700</td>\n",
       "      <td>1700.000000</td>\n",
       "      <td>1</td>\n",
       "      <td>2018-10-05 23:54:00</td>\n",
       "    </tr>\n",
       "    <tr>\n",
       "      <th>xyW36xj3Rs5ZUuU1nvYMCw==</th>\n",
       "      <td>7700</td>\n",
       "      <td>7700</td>\n",
       "      <td>7700.000000</td>\n",
       "      <td>1</td>\n",
       "      <td>2018-10-04 10:35:00</td>\n",
       "    </tr>\n",
       "    <tr>\n",
       "      <th>xyW36xj3Rs5mTz2DFhoLNA==</th>\n",
       "      <td>1800</td>\n",
       "      <td>1800</td>\n",
       "      <td>1800.000000</td>\n",
       "      <td>1</td>\n",
       "      <td>2018-10-06 14:20:00</td>\n",
       "    </tr>\n",
       "    <tr>\n",
       "      <th>xyW36xj3Rs5qiJX1AAzvgQ==</th>\n",
       "      <td>6400</td>\n",
       "      <td>6400</td>\n",
       "      <td>6400.000000</td>\n",
       "      <td>1</td>\n",
       "      <td>2018-07-17 15:01:00</td>\n",
       "    </tr>\n",
       "    <tr>\n",
       "      <th>xyW36xj3Rs5zvl8QZmO6Kw==</th>\n",
       "      <td>6700</td>\n",
       "      <td>6700</td>\n",
       "      <td>6700.000000</td>\n",
       "      <td>1</td>\n",
       "      <td>2018-07-17 15:01:00</td>\n",
       "    </tr>\n",
       "    <tr>\n",
       "      <th>xyW36xj3Rs6/djxsq7WGLQ==</th>\n",
       "      <td>2000</td>\n",
       "      <td>2000</td>\n",
       "      <td>2000.000000</td>\n",
       "      <td>1</td>\n",
       "      <td>2018-11-21 11:28:00</td>\n",
       "    </tr>\n",
       "    <tr>\n",
       "      <th>xyW36xj3Rs6F1LwsxAzkLQ==</th>\n",
       "      <td>1300</td>\n",
       "      <td>1300</td>\n",
       "      <td>1300.000000</td>\n",
       "      <td>1</td>\n",
       "      <td>2018-10-04 10:55:00</td>\n",
       "    </tr>\n",
       "    <tr>\n",
       "      <th>xyW36xj3Rs6Gm0olkFrKPQ==</th>\n",
       "      <td>3400</td>\n",
       "      <td>3400</td>\n",
       "      <td>3400.000000</td>\n",
       "      <td>1</td>\n",
       "      <td>2018-10-06 14:39:00</td>\n",
       "    </tr>\n",
       "    <tr>\n",
       "      <th>xyW36xj3Rs6OoCVlKyPUFQ==</th>\n",
       "      <td>1400</td>\n",
       "      <td>1400</td>\n",
       "      <td>1400.000000</td>\n",
       "      <td>1</td>\n",
       "      <td>2018-10-05 23:56:00</td>\n",
       "    </tr>\n",
       "    <tr>\n",
       "      <th>xyW36xj3Rs6dr7/ZcwOJyQ==</th>\n",
       "      <td>10500</td>\n",
       "      <td>10500</td>\n",
       "      <td>10500.000000</td>\n",
       "      <td>1</td>\n",
       "      <td>2018-10-04 10:56:00</td>\n",
       "    </tr>\n",
       "    <tr>\n",
       "      <th>xyW36xj3Rs6lvZG+0rsfQw==</th>\n",
       "      <td>1200</td>\n",
       "      <td>1200</td>\n",
       "      <td>1200.000000</td>\n",
       "      <td>1</td>\n",
       "      <td>2018-07-17 14:45:00</td>\n",
       "    </tr>\n",
       "    <tr>\n",
       "      <th>xyW36xj3Rs6oECI5AKeMAQ==</th>\n",
       "      <td>5700</td>\n",
       "      <td>5700</td>\n",
       "      <td>5700.000000</td>\n",
       "      <td>1</td>\n",
       "      <td>2018-10-02 14:12:00</td>\n",
       "    </tr>\n",
       "    <tr>\n",
       "      <th>xyW36xj3Rs6pRMEKMWnrvA==</th>\n",
       "      <td>10000</td>\n",
       "      <td>10000</td>\n",
       "      <td>10000.000000</td>\n",
       "      <td>1</td>\n",
       "      <td>2018-10-04 10:04:00</td>\n",
       "    </tr>\n",
       "    <tr>\n",
       "      <th>xyW36xj3Rs6rL/tOjc9HrQ==</th>\n",
       "      <td>7600</td>\n",
       "      <td>7600</td>\n",
       "      <td>7600.000000</td>\n",
       "      <td>1</td>\n",
       "      <td>2018-10-06 14:21:00</td>\n",
       "    </tr>\n",
       "    <tr>\n",
       "      <th>xyW36xj3Rs6uYUK6tN9LiA==</th>\n",
       "      <td>6400</td>\n",
       "      <td>6400</td>\n",
       "      <td>6400.000000</td>\n",
       "      <td>1</td>\n",
       "      <td>2018-10-04 10:12:00</td>\n",
       "    </tr>\n",
       "    <tr>\n",
       "      <th>xyW36xj3Rs728cmQFAKqnA==</th>\n",
       "      <td>8800</td>\n",
       "      <td>8800</td>\n",
       "      <td>8800.000000</td>\n",
       "      <td>1</td>\n",
       "      <td>2018-10-04 15:05:00</td>\n",
       "    </tr>\n",
       "    <tr>\n",
       "      <th>xyW36xj3Rs74RMOnGwT4uA==</th>\n",
       "      <td>9300</td>\n",
       "      <td>9300</td>\n",
       "      <td>9300.000000</td>\n",
       "      <td>1</td>\n",
       "      <td>2018-11-21 17:37:00</td>\n",
       "    </tr>\n",
       "    <tr>\n",
       "      <th>xyW36xj3Rs7Gdg4eO8NPvQ==</th>\n",
       "      <td>6000</td>\n",
       "      <td>6000</td>\n",
       "      <td>6000.000000</td>\n",
       "      <td>1</td>\n",
       "      <td>2018-11-21 18:04:00</td>\n",
       "    </tr>\n",
       "    <tr>\n",
       "      <th>xyW36xj3Rs7LTyWax8qUPg==</th>\n",
       "      <td>11600</td>\n",
       "      <td>11600</td>\n",
       "      <td>11600.000000</td>\n",
       "      <td>1</td>\n",
       "      <td>2018-10-04 19:42:00</td>\n",
       "    </tr>\n",
       "    <tr>\n",
       "      <th>xyW36xj3Rs7afR6z6hf1ig==</th>\n",
       "      <td>6300</td>\n",
       "      <td>6300</td>\n",
       "      <td>6300.000000</td>\n",
       "      <td>1</td>\n",
       "      <td>2018-11-21 19:14:00</td>\n",
       "    </tr>\n",
       "    <tr>\n",
       "      <th>xyW36xj3Rs7bkjCDinEn+w==</th>\n",
       "      <td>1300</td>\n",
       "      <td>1300</td>\n",
       "      <td>1300.000000</td>\n",
       "      <td>1</td>\n",
       "      <td>2018-10-04 10:56:00</td>\n",
       "    </tr>\n",
       "    <tr>\n",
       "      <th>xyW36xj3Rs7vf64RIrg96g==</th>\n",
       "      <td>1300</td>\n",
       "      <td>1300</td>\n",
       "      <td>1300.000000</td>\n",
       "      <td>1</td>\n",
       "      <td>2018-10-06 14:16:00</td>\n",
       "    </tr>\n",
       "    <tr>\n",
       "      <th>xyW36xj3Rs7wghxU3kM29w==</th>\n",
       "      <td>7400</td>\n",
       "      <td>7400</td>\n",
       "      <td>7400.000000</td>\n",
       "      <td>1</td>\n",
       "      <td>2018-10-04 15:07:00</td>\n",
       "    </tr>\n",
       "    <tr>\n",
       "      <th>z8y9AYXLRyOy+c0xRAPqxg==</th>\n",
       "      <td>6500</td>\n",
       "      <td>6500</td>\n",
       "      <td>6500.000000</td>\n",
       "      <td>1</td>\n",
       "      <td>2018-07-10 12:01:00</td>\n",
       "    </tr>\n",
       "    <tr>\n",
       "      <th>z9ne5KwyQjd9L+yDHTEU1Q==</th>\n",
       "      <td>700</td>\n",
       "      <td>700</td>\n",
       "      <td>700.000000</td>\n",
       "      <td>1</td>\n",
       "      <td>2018-11-21 14:45:00</td>\n",
       "    </tr>\n",
       "    <tr>\n",
       "      <th>zI05kGBEy+5VueEKFmZXpg==</th>\n",
       "      <td>800</td>\n",
       "      <td>800</td>\n",
       "      <td>800.000000</td>\n",
       "      <td>1</td>\n",
       "      <td>2018-11-10 11:58:00</td>\n",
       "    </tr>\n",
       "    <tr>\n",
       "      <th>zI05kGBEy+6xZaqUO4QL/w==</th>\n",
       "      <td>4500</td>\n",
       "      <td>4500</td>\n",
       "      <td>4500.000000</td>\n",
       "      <td>1</td>\n",
       "      <td>2018-11-02 16:04:00</td>\n",
       "    </tr>\n",
       "    <tr>\n",
       "      <th>zl6vIWrHUWLY2J3KOxjZGw==</th>\n",
       "      <td>8600</td>\n",
       "      <td>8600</td>\n",
       "      <td>8600.000000</td>\n",
       "      <td>1</td>\n",
       "      <td>2018-07-13 14:27:00</td>\n",
       "    </tr>\n",
       "    <tr>\n",
       "      <th>znuMbvcXc+hKi1SjvWqE9+b5ksILhAW/</th>\n",
       "      <td>500</td>\n",
       "      <td>500</td>\n",
       "      <td>500.000000</td>\n",
       "      <td>1</td>\n",
       "      <td>2018-11-20 10:47:00</td>\n",
       "    </tr>\n",
       "    <tr>\n",
       "      <th>zwgdIroIbNZDm/o4rbCdfg==</th>\n",
       "      <td>900</td>\n",
       "      <td>500</td>\n",
       "      <td>450.000000</td>\n",
       "      <td>2</td>\n",
       "      <td>2019-03-07 13:25:00</td>\n",
       "    </tr>\n",
       "  </tbody>\n",
       "</table>\n",
       "<p>426 rows × 5 columns</p>\n",
       "</div>"
      ],
      "text/plain": [
       "                                  seconds_sum  seconds_max  seconds_mean  \\\n",
       "mac                                                                        \n",
       "+8s9FVOE/OsSVhjIY5RNXg==                 4400         4400   4400.000000   \n",
       "+G820S6yIyVwks68tUlOug==                  500          500    500.000000   \n",
       "+M57VBg70V19n6z/lgFzgQ==                 8400         8400   8400.000000   \n",
       "+ZHWu5o4oScrbBVc8INkCg==                  400          400    400.000000   \n",
       "+nis6ew2FVYaFhQmp7NyNg==                 9300         9300   9300.000000   \n",
       "+oR33EJbsNuueAlOT0kECh06P02XDKYl        11900        11900  11900.000000   \n",
       "/G2WXOLtCJ8SVhjIY5RNXg==                 9800         9800   9800.000000   \n",
       "/Sp2HlKM5TkK0jYrt1N+tg==                  400          400    400.000000   \n",
       "09ytMg66asF8MfuPZWI/Yw==                 8500         8500   8500.000000   \n",
       "0RSCxGUqOYUuI8UfnwkfCA==                10700        10700  10700.000000   \n",
       "0XJUQi2+hdCxZaqUO4QL/w==                 6500         6500   6500.000000   \n",
       "18cxEyaI5dFBy4icC+7Ziw==                 4800         4800   4800.000000   \n",
       "1FbyYeswOVUu7gPVQRvTew==                10300        10300  10300.000000   \n",
       "1MLb9idmRbkcGvpM1H3zTA==                 8600         8600   8600.000000   \n",
       "1Q1zz6EEeuVoUbgf9v8gYw==                18500        10400   4625.000000   \n",
       "1SQiTbAEi1FoGz58aidUiQ==                 7100         7100   7100.000000   \n",
       "1aeCdwv4PNbNtQ7gQ4347A==                  400          400    400.000000   \n",
       "21fd/jvaDj8SVhjIY5RNXg==                 4200         4200   4200.000000   \n",
       "24c/eH3s66uRjZJIP2pOyw==                  600          600    600.000000   \n",
       "2DQYTy+QrNDyzYubXYypeQ==                 3700         3700   3700.000000   \n",
       "33J/Q4rokmOZcYyuv65uhg==                10200        10200  10200.000000   \n",
       "34rVCqHvKMNM7OTum+cZjA==                 2900         2900   2900.000000   \n",
       "3o3656ZqQ6Y6PU9h8jWhcQ==                 4400         4400   4400.000000   \n",
       "46YRFhDspfOeOvB9HqP5twbfpgeA9CH3         9100         9100   9100.000000   \n",
       "4DgMJLW7NV2SalLeJ6DGGg==                 5900         5900   5900.000000   \n",
       "4HVhijEdFPw1pLwfmY31bAbfpgeA9CH3         1300         1300   1300.000000   \n",
       "4LPoUa7imqI5iEzdKKq9kw==                34500        10000   4928.571429   \n",
       "4aTonq4gmQweBUgxNs2lhA==                 5900         5900   5900.000000   \n",
       "4xjedivUl+z9+jSlJ5uQvA==                 9900         9900   9900.000000   \n",
       "57zas/dyRDgjI7AKqTwsZg==                20600         9600   5150.000000   \n",
       "...                                       ...          ...           ...   \n",
       "xyW36xj3Rs5XxOUHhqLEUg==                 1700         1700   1700.000000   \n",
       "xyW36xj3Rs5ZUuU1nvYMCw==                 7700         7700   7700.000000   \n",
       "xyW36xj3Rs5mTz2DFhoLNA==                 1800         1800   1800.000000   \n",
       "xyW36xj3Rs5qiJX1AAzvgQ==                 6400         6400   6400.000000   \n",
       "xyW36xj3Rs5zvl8QZmO6Kw==                 6700         6700   6700.000000   \n",
       "xyW36xj3Rs6/djxsq7WGLQ==                 2000         2000   2000.000000   \n",
       "xyW36xj3Rs6F1LwsxAzkLQ==                 1300         1300   1300.000000   \n",
       "xyW36xj3Rs6Gm0olkFrKPQ==                 3400         3400   3400.000000   \n",
       "xyW36xj3Rs6OoCVlKyPUFQ==                 1400         1400   1400.000000   \n",
       "xyW36xj3Rs6dr7/ZcwOJyQ==                10500        10500  10500.000000   \n",
       "xyW36xj3Rs6lvZG+0rsfQw==                 1200         1200   1200.000000   \n",
       "xyW36xj3Rs6oECI5AKeMAQ==                 5700         5700   5700.000000   \n",
       "xyW36xj3Rs6pRMEKMWnrvA==                10000        10000  10000.000000   \n",
       "xyW36xj3Rs6rL/tOjc9HrQ==                 7600         7600   7600.000000   \n",
       "xyW36xj3Rs6uYUK6tN9LiA==                 6400         6400   6400.000000   \n",
       "xyW36xj3Rs728cmQFAKqnA==                 8800         8800   8800.000000   \n",
       "xyW36xj3Rs74RMOnGwT4uA==                 9300         9300   9300.000000   \n",
       "xyW36xj3Rs7Gdg4eO8NPvQ==                 6000         6000   6000.000000   \n",
       "xyW36xj3Rs7LTyWax8qUPg==                11600        11600  11600.000000   \n",
       "xyW36xj3Rs7afR6z6hf1ig==                 6300         6300   6300.000000   \n",
       "xyW36xj3Rs7bkjCDinEn+w==                 1300         1300   1300.000000   \n",
       "xyW36xj3Rs7vf64RIrg96g==                 1300         1300   1300.000000   \n",
       "xyW36xj3Rs7wghxU3kM29w==                 7400         7400   7400.000000   \n",
       "z8y9AYXLRyOy+c0xRAPqxg==                 6500         6500   6500.000000   \n",
       "z9ne5KwyQjd9L+yDHTEU1Q==                  700          700    700.000000   \n",
       "zI05kGBEy+5VueEKFmZXpg==                  800          800    800.000000   \n",
       "zI05kGBEy+6xZaqUO4QL/w==                 4500         4500   4500.000000   \n",
       "zl6vIWrHUWLY2J3KOxjZGw==                 8600         8600   8600.000000   \n",
       "znuMbvcXc+hKi1SjvWqE9+b5ksILhAW/          500          500    500.000000   \n",
       "zwgdIroIbNZDm/o4rbCdfg==                  900          500    450.000000   \n",
       "\n",
       "                                  detections_count    last_detected_max  \n",
       "mac                                                                      \n",
       "+8s9FVOE/OsSVhjIY5RNXg==                         1  2018-07-10 10:02:00  \n",
       "+G820S6yIyVwks68tUlOug==                         1  2018-10-16 07:14:00  \n",
       "+M57VBg70V19n6z/lgFzgQ==                         1  2018-07-10 14:37:00  \n",
       "+ZHWu5o4oScrbBVc8INkCg==                         1  2018-05-10 13:28:00  \n",
       "+nis6ew2FVYaFhQmp7NyNg==                         1  2018-11-21 11:50:00  \n",
       "+oR33EJbsNuueAlOT0kECh06P02XDKYl                 1  2018-07-09 13:35:00  \n",
       "/G2WXOLtCJ8SVhjIY5RNXg==                         1  2019-01-29 14:07:00  \n",
       "/Sp2HlKM5TkK0jYrt1N+tg==                         1  2018-07-16 09:34:00  \n",
       "09ytMg66asF8MfuPZWI/Yw==                         1  2019-01-12 20:17:00  \n",
       "0RSCxGUqOYUuI8UfnwkfCA==                         1  2018-05-11 07:57:00  \n",
       "0XJUQi2+hdCxZaqUO4QL/w==                         1  2018-05-11 14:03:00  \n",
       "18cxEyaI5dFBy4icC+7Ziw==                         1  2018-11-21 08:06:00  \n",
       "1FbyYeswOVUu7gPVQRvTew==                         1  2018-10-04 10:58:00  \n",
       "1MLb9idmRbkcGvpM1H3zTA==                         1  2018-10-06 02:01:00  \n",
       "1Q1zz6EEeuVoUbgf9v8gYw==                         4  2019-01-12 20:50:00  \n",
       "1SQiTbAEi1FoGz58aidUiQ==                         1  2019-01-11 10:26:00  \n",
       "1aeCdwv4PNbNtQ7gQ4347A==                         1  2018-11-23 15:52:00  \n",
       "21fd/jvaDj8SVhjIY5RNXg==                         1  2018-10-04 14:44:00  \n",
       "24c/eH3s66uRjZJIP2pOyw==                         1  2018-07-12 08:08:00  \n",
       "2DQYTy+QrNDyzYubXYypeQ==                         1  2018-10-01 14:44:00  \n",
       "33J/Q4rokmOZcYyuv65uhg==                         1  2018-07-10 14:03:00  \n",
       "34rVCqHvKMNM7OTum+cZjA==                         1  2018-11-21 12:55:00  \n",
       "3o3656ZqQ6Y6PU9h8jWhcQ==                         1  2019-03-07 22:02:00  \n",
       "46YRFhDspfOeOvB9HqP5twbfpgeA9CH3                 1  2018-11-26 07:26:00  \n",
       "4DgMJLW7NV2SalLeJ6DGGg==                         1  2019-02-28 18:04:00  \n",
       "4HVhijEdFPw1pLwfmY31bAbfpgeA9CH3                 1  2019-01-29 20:37:00  \n",
       "4LPoUa7imqI5iEzdKKq9kw==                         7  2018-12-24 15:55:00  \n",
       "4aTonq4gmQweBUgxNs2lhA==                         1  2018-11-10 22:10:00  \n",
       "4xjedivUl+z9+jSlJ5uQvA==                         1  2018-12-01 22:06:00  \n",
       "57zas/dyRDgjI7AKqTwsZg==                         4  2019-01-24 17:13:00  \n",
       "...                                            ...                  ...  \n",
       "xyW36xj3Rs5XxOUHhqLEUg==                         1  2018-10-05 23:54:00  \n",
       "xyW36xj3Rs5ZUuU1nvYMCw==                         1  2018-10-04 10:35:00  \n",
       "xyW36xj3Rs5mTz2DFhoLNA==                         1  2018-10-06 14:20:00  \n",
       "xyW36xj3Rs5qiJX1AAzvgQ==                         1  2018-07-17 15:01:00  \n",
       "xyW36xj3Rs5zvl8QZmO6Kw==                         1  2018-07-17 15:01:00  \n",
       "xyW36xj3Rs6/djxsq7WGLQ==                         1  2018-11-21 11:28:00  \n",
       "xyW36xj3Rs6F1LwsxAzkLQ==                         1  2018-10-04 10:55:00  \n",
       "xyW36xj3Rs6Gm0olkFrKPQ==                         1  2018-10-06 14:39:00  \n",
       "xyW36xj3Rs6OoCVlKyPUFQ==                         1  2018-10-05 23:56:00  \n",
       "xyW36xj3Rs6dr7/ZcwOJyQ==                         1  2018-10-04 10:56:00  \n",
       "xyW36xj3Rs6lvZG+0rsfQw==                         1  2018-07-17 14:45:00  \n",
       "xyW36xj3Rs6oECI5AKeMAQ==                         1  2018-10-02 14:12:00  \n",
       "xyW36xj3Rs6pRMEKMWnrvA==                         1  2018-10-04 10:04:00  \n",
       "xyW36xj3Rs6rL/tOjc9HrQ==                         1  2018-10-06 14:21:00  \n",
       "xyW36xj3Rs6uYUK6tN9LiA==                         1  2018-10-04 10:12:00  \n",
       "xyW36xj3Rs728cmQFAKqnA==                         1  2018-10-04 15:05:00  \n",
       "xyW36xj3Rs74RMOnGwT4uA==                         1  2018-11-21 17:37:00  \n",
       "xyW36xj3Rs7Gdg4eO8NPvQ==                         1  2018-11-21 18:04:00  \n",
       "xyW36xj3Rs7LTyWax8qUPg==                         1  2018-10-04 19:42:00  \n",
       "xyW36xj3Rs7afR6z6hf1ig==                         1  2018-11-21 19:14:00  \n",
       "xyW36xj3Rs7bkjCDinEn+w==                         1  2018-10-04 10:56:00  \n",
       "xyW36xj3Rs7vf64RIrg96g==                         1  2018-10-06 14:16:00  \n",
       "xyW36xj3Rs7wghxU3kM29w==                         1  2018-10-04 15:07:00  \n",
       "z8y9AYXLRyOy+c0xRAPqxg==                         1  2018-07-10 12:01:00  \n",
       "z9ne5KwyQjd9L+yDHTEU1Q==                         1  2018-11-21 14:45:00  \n",
       "zI05kGBEy+5VueEKFmZXpg==                         1  2018-11-10 11:58:00  \n",
       "zI05kGBEy+6xZaqUO4QL/w==                         1  2018-11-02 16:04:00  \n",
       "zl6vIWrHUWLY2J3KOxjZGw==                         1  2018-07-13 14:27:00  \n",
       "znuMbvcXc+hKi1SjvWqE9+b5ksILhAW/                 1  2018-11-20 10:47:00  \n",
       "zwgdIroIbNZDm/o4rbCdfg==                         2  2019-03-07 13:25:00  \n",
       "\n",
       "[426 rows x 5 columns]"
      ]
     },
     "execution_count": 8,
     "metadata": {},
     "output_type": "execute_result"
    }
   ],
   "source": [
    "aggregations"
   ]
  },
  {
   "cell_type": "code",
   "execution_count": 9,
   "metadata": {},
   "outputs": [
    {
     "data": {
      "text/plain": [
       "(array([129.,  48.,  28.,  27.,  40.,  34.,  23.,  43.,  36.,  18.]),\n",
       " array([  400.,  1550.,  2700.,  3850.,  5000.,  6150.,  7300.,  8450.,\n",
       "         9600., 10750., 11900.]),\n",
       " <a list of 10 Patch objects>)"
      ]
     },
     "execution_count": 9,
     "metadata": {},
     "output_type": "execute_result"
    },
    {
     "data": {
      "image/png": "[encoded data removed]",
      "text/plain": [
       "<Figure size 432x288 with 1 Axes>"
      ]
     },
     "metadata": {
      "needs_background": "light"
     },
     "output_type": "display_data"
    }
   ],
   "source": [
    "plt.hist(aggregations['seconds_mean'])"
   ]
  },
  {
   "cell_type": "markdown",
   "metadata": {},
   "source": [
    "Let's plot the repetitions histogram without the single repetitions (i.e. no repetition)."
   ]
  },
  {
   "cell_type": "code",
   "execution_count": 10,
   "metadata": {},
   "outputs": [
    {
     "data": {
      "text/plain": [
       "(array([29., 13.,  6.,  0.,  5.,  1.,  0.,  2.,  1.,  2.]),\n",
       " array([2. , 2.7, 3.4, 4.1, 4.8, 5.5, 6.2, 6.9, 7.6, 8.3, 9. ]),\n",
       " <a list of 10 Patch objects>)"
      ]
     },
     "execution_count": 10,
     "metadata": {},
     "output_type": "execute_result"
    },
    {
     "data": {
      "image/png": "[encoded data removed]",
      "text/plain": [
       "<Figure size 432x288 with 1 Axes>"
      ]
     },
     "metadata": {
      "needs_background": "light"
     },
     "output_type": "display_data"
    }
   ],
   "source": [
    "plt.hist(aggregations[aggregations['detections_count']>1]['detections_count'])"
   ]
  },
  {
   "cell_type": "markdown",
   "metadata": {},
   "source": [
    "### Compute scores to normalize data.\n",
    "Here the \\*_score means a simple normalization (i.e. (value-min)*100/(max-min)) and *_quintile is the quintile score for the data."
   ]
  },
  {
   "cell_type": "code",
   "execution_count": 11,
   "metadata": {},
   "outputs": [],
   "source": [
    "max_seconds = max(aggregations['seconds_mean'])\n",
    "min_seconds = min(aggregations['seconds_mean'])"
   ]
  },
  {
   "cell_type": "code",
   "execution_count": 12,
   "metadata": {},
   "outputs": [],
   "source": [
    "aggregations['seconds_score'] = (aggregations['seconds_mean'] - min_seconds) * 100 / (max_seconds - min_seconds)\n"
   ]
  },
  {
   "cell_type": "code",
   "execution_count": 13,
   "metadata": {},
   "outputs": [],
   "source": [
    "max_count = max(aggregations['detections_count'])"
   ]
  },
  {
   "cell_type": "code",
   "execution_count": 14,
   "metadata": {},
   "outputs": [],
   "source": [
    "aggregations['count_score'] = (aggregations['detections_count'] - 1) * 100 / (max_count-1)"
   ]
  },
  {
   "cell_type": "code",
   "execution_count": 15,
   "metadata": {},
   "outputs": [],
   "source": [
    "max_recency = max(aggregations['last_detected_max'])"
   ]
  },
  {
   "cell_type": "code",
   "execution_count": 16,
   "metadata": {},
   "outputs": [],
   "source": [
    "aggregations['recency'] = pd.to_datetime(max_recency) - pd.to_datetime(aggregations['last_detected_max'])\n"
   ]
  },
  {
   "cell_type": "code",
   "execution_count": 17,
   "metadata": {},
   "outputs": [],
   "source": [
    "aggregations['recency'] = aggregations['recency'].dt.days\n",
    "max_recency = max(aggregations['recency'])\n",
    "min_recency = min(aggregations['recency'])"
   ]
  },
  {
   "cell_type": "code",
   "execution_count": 18,
   "metadata": {},
   "outputs": [],
   "source": [
    "aggregations['recency_score'] = (aggregations['recency'] - min_recency) * 100 / (max_recency-min_recency)"
   ]
  },
  {
   "cell_type": "code",
   "execution_count": 19,
   "metadata": {},
   "outputs": [
    {
     "data": {
      "text/plain": [
       "seconds_sum          0.138498\n",
       "seconds_max          0.138498\n",
       "seconds_mean         0.138498\n",
       "detections_count     0.138498\n",
       "last_detected_max    0.138498\n",
       "seconds_score        0.138498\n",
       "count_score          0.138498\n",
       "recency              0.138498\n",
       "recency_score        0.138498\n",
       "dtype: float64"
      ]
     },
     "execution_count": 19,
     "metadata": {},
     "output_type": "execute_result"
    }
   ],
   "source": [
    "aggregations[aggregations['count_score']>0].count() / aggregations.count()"
   ]
  },
  {
   "cell_type": "code",
   "execution_count": 20,
   "metadata": {},
   "outputs": [],
   "source": [
    "rfm = aggregations[['seconds_mean','detections_count','recency','seconds_score','count_score','recency_score']]\n",
    "rfm.columns = ['seconds','detections','recency','seconds_score','count_score','recency_score']"
   ]
  },
  {
   "cell_type": "code",
   "execution_count": 21,
   "metadata": {},
   "outputs": [],
   "source": [
    "rfm_scores = aggregations[['seconds_score','count_score','recency_score']]\n",
    "#rfm_scores = rfm_scores.set_index('mac',drop=True)"
   ]
  },
  {
   "cell_type": "code",
   "execution_count": 22,
   "metadata": {},
   "outputs": [],
   "source": [
    "wcss = []\n",
    "for i in range(1,11):\n",
    "    kmeans = KMeans(n_clusters=i, init='k-means++')\n",
    "    kmeans.fit(rfm_scores)\n",
    "    wcss.append(kmeans.inertia_)"
   ]
  },
  {
   "cell_type": "code",
   "execution_count": 23,
   "metadata": {},
   "outputs": [
    {
     "data": {
      "image/png": "[encoded data removed]",
      "text/plain": [
       "<Figure size 432x288 with 1 Axes>"
      ]
     },
     "metadata": {
      "needs_background": "light"
     },
     "output_type": "display_data"
    }
   ],
   "source": [
    "plt.plot(range(1,11), wcss)\n",
    "plt.title('Elbow graph')\n",
    "plt.xlabel('Cluster number')\n",
    "plt.ylabel('WCSS')\n",
    "plt.show()"
   ]
  },
  {
   "cell_type": "code",
   "execution_count": 24,
   "metadata": {},
   "outputs": [],
   "source": [
    "kmeans = KMeans(n_clusters=3, init='k-means++', random_state=0)\n",
    "cluster = kmeans.fit_predict(rfm_scores)"
   ]
  },
  {
   "cell_type": "code",
   "execution_count": 25,
   "metadata": {},
   "outputs": [
    {
     "name": "stderr",
     "output_type": "stream",
     "text": [
      "/usr/local/dsc/anaconda3/lib/python3.7/site-packages/ipykernel_launcher.py:1: SettingWithCopyWarning: \n",
      "A value is trying to be set on a copy of a slice from a DataFrame.\n",
      "Try using .loc[row_indexer,col_indexer] = value instead\n",
      "\n",
      "See the caveats in the documentation: http://pandas.pydata.org/pandas-docs/stable/indexing.html#indexing-view-versus-copy\n",
      "  \"\"\"Entry point for launching an IPython kernel.\n"
     ]
    }
   ],
   "source": [
    "rfm['cluster'] = cluster"
   ]
  },
  {
   "cell_type": "code",
   "execution_count": 26,
   "metadata": {},
   "outputs": [
    {
     "data": {
      "text/plain": [
       "Text(0.5,0,'Seconds')"
      ]
     },
     "execution_count": 26,
     "metadata": {},
     "output_type": "execute_result"
    },
    {
     "data": {
      "image/png": "[encoded data removed]",
      "text/plain": [
       "<Figure size 1080x720 with 1 Axes>"
      ]
     },
     "metadata": {
      "needs_background": "light"
     },
     "output_type": "display_data"
    }
   ],
   "source": [
    "from mpl_toolkits.mplot3d import Axes3D\n",
    "\n",
    "fig = plt.figure(figsize=(15,10))\n",
    "ax = fig.add_subplot(111, projection='3d')\n",
    "\n",
    "ax.scatter(rfm.recency, rfm.detections, rfm.seconds, s=50)\n",
    "\n",
    "ax.set_xlabel('Recency')\n",
    "ax.set_ylabel('Count')\n",
    "ax.set_zlabel('Seconds')\n"
   ]
  },
  {
   "cell_type": "code",
   "execution_count": 27,
   "metadata": {},
   "outputs": [
    {
     "data": {
      "text/plain": [
       "Text(0,0.5,'Stay')"
      ]
     },
     "execution_count": 27,
     "metadata": {},
     "output_type": "execute_result"
    },
    {
     "data": {
      "image/png": "[encoded data removed]",
      "text/plain": [
       "<Figure size 432x288 with 1 Axes>"
      ]
     },
     "metadata": {
      "needs_background": "light"
     },
     "output_type": "display_data"
    }
   ],
   "source": [
    "c1 = rfm[rfm.cluster == 0]\n",
    "c2 = rfm[rfm.cluster == 1]\n",
    "c3 = rfm[rfm.cluster == 2]\n",
    "\n",
    "plt.scatter(c1.detections, c1.seconds, c = 'red', label = 'Cluster 1')\n",
    "plt.scatter(c2.detections, c2.seconds, c = 'green', label = 'Cluster 2')\n",
    "plt.scatter(c3.detections, c3.seconds, c = 'blue', label = 'Cluster 3')\n",
    "\n",
    "plt.title('Clusters of clients')\n",
    "plt.xlabel('Frequency')\n",
    "plt.ylabel('Stay')"
   ]
  },
  {
   "cell_type": "code",
   "execution_count": 28,
   "metadata": {},
   "outputs": [
    {
     "data": {
      "text/plain": [
       "Text(0,0.5,'Stay')"
      ]
     },
     "execution_count": 28,
     "metadata": {},
     "output_type": "execute_result"
    },
    {
     "data": {
      "image/png": "[encoded data removed]",
      "text/plain": [
       "<Figure size 432x288 with 1 Axes>"
      ]
     },
     "metadata": {
      "needs_background": "light"
     },
     "output_type": "display_data"
    }
   ],
   "source": [
    "c1 = rfm[rfm.cluster == 0]\n",
    "c2 = rfm[rfm.cluster == 1]\n",
    "c3 = rfm[rfm.cluster == 2]\n",
    "\n",
    "plt.scatter(c1.recency, c1.seconds, c = 'red', label = 'Cluster 1')\n",
    "plt.scatter(c2.recency, c2.seconds, c = 'green', label = 'Cluster 2')\n",
    "plt.scatter(c3.recency, c3.seconds, c = 'blue', label = 'Cluster 3')\n",
    "\n",
    "plt.title('Clusters of clients')\n",
    "plt.xlabel('Recency')\n",
    "plt.ylabel('Stay')"
   ]
  },
  {
   "cell_type": "code",
   "execution_count": 29,
   "metadata": {},
   "outputs": [
    {
     "data": {
      "text/plain": [
       "Text(0,0.5,'Recency')"
      ]
     },
     "execution_count": 29,
     "metadata": {},
     "output_type": "execute_result"
    },
    {
     "data": {
      "image/png": "[encoded data removed]",
      "text/plain": [
       "<Figure size 432x288 with 1 Axes>"
      ]
     },
     "metadata": {
      "needs_background": "light"
     },
     "output_type": "display_data"
    }
   ],
   "source": [
    "c1 = rfm[rfm.cluster == 0]\n",
    "c2 = rfm[rfm.cluster == 1]\n",
    "c3 = rfm[rfm.cluster == 2]\n",
    "\n",
    "plt.scatter(c1.detections, c1.recency, c = 'red', label = 'Cluster 1')\n",
    "plt.scatter(c2.detections, c2.recency, c = 'green', label = 'Cluster 2')\n",
    "plt.scatter(c3.detections, c3.recency, c = 'blue', label = 'Cluster 3')\n",
    "\n",
    "plt.title('Clusters of clients')\n",
    "plt.xlabel('Frequency')\n",
    "plt.ylabel('Recency')"
   ]
  },
  {
   "cell_type": "code",
   "execution_count": 30,
   "metadata": {},
   "outputs": [
    {
     "data": {
      "text/plain": [
       "175"
      ]
     },
     "execution_count": 30,
     "metadata": {},
     "output_type": "execute_result"
    }
   ],
   "source": [
    "c1.count()['cluster']"
   ]
  },
  {
   "cell_type": "code",
   "execution_count": 31,
   "metadata": {},
   "outputs": [
    {
     "data": {
      "text/plain": [
       "190"
      ]
     },
     "execution_count": 31,
     "metadata": {},
     "output_type": "execute_result"
    }
   ],
   "source": [
    "c2.count()['cluster']"
   ]
  },
  {
   "cell_type": "code",
   "execution_count": 32,
   "metadata": {},
   "outputs": [
    {
     "data": {
      "text/plain": [
       "61"
      ]
     },
     "execution_count": 32,
     "metadata": {},
     "output_type": "execute_result"
    }
   ],
   "source": [
    "c3.count()['cluster']"
   ]
  },
  {
   "cell_type": "markdown",
   "metadata": {},
   "source": [
    "## DBSCAN"
   ]
  },
  {
   "cell_type": "code",
   "execution_count": 33,
   "metadata": {},
   "outputs": [],
   "source": [
    "from sklearn.cluster import DBSCAN"
   ]
  },
  {
   "cell_type": "code",
   "execution_count": 34,
   "metadata": {},
   "outputs": [],
   "source": [
    "dbs = DBSCAN(eps=0.5, min_samples=5)\n",
    "dbs = dbs.fit(rfm)"
   ]
  },
  {
   "cell_type": "code",
   "execution_count": 35,
   "metadata": {},
   "outputs": [
    {
     "data": {
      "text/plain": [
       "array([-1, -1, -1, -1, -1, -1, -1, -1, -1, -1, -1, -1, -1, -1, -1, -1, -1,\n",
       "       -1, -1, -1, -1, -1, -1, -1, -1, -1, -1, -1, -1, -1, -1, -1, -1, -1,\n",
       "       -1, -1, -1, -1, -1, -1, -1, -1, -1, -1, -1, -1, -1, -1, -1, -1])"
      ]
     },
     "execution_count": 35,
     "metadata": {},
     "output_type": "execute_result"
    }
   ],
   "source": [
    "dbs.labels_[0:50]"
   ]
  },
  {
   "cell_type": "code",
   "execution_count": 36,
   "metadata": {},
   "outputs": [
    {
     "name": "stdout",
     "output_type": "stream",
     "text": [
      "Found 3 clusters\n"
     ]
    },
    {
     "data": {
      "text/plain": [
       "(array([-1,  0,  1]), array([412,   7,   7]))"
      ]
     },
     "execution_count": 36,
     "metadata": {},
     "output_type": "execute_result"
    }
   ],
   "source": [
    "id_clusters = np.unique(dbs.labels_)\n",
    "print('Found {} clusters'.format(len(id_clusters)))\n",
    "np.unique(dbs.labels_, return_counts=True)"
   ]
  },
  {
   "cell_type": "code",
   "execution_count": 37,
   "metadata": {},
   "outputs": [
    {
     "data": {
      "text/plain": [
       "array([-1, -1, -1, -1, -1, -1, -1, -1, -1, -1, -1, -1, -1, -1, -1, -1, -1,\n",
       "       -1, -1, -1, -1, -1, -1, -1, -1, -1, -1, -1, -1, -1, -1, -1, -1, -1,\n",
       "       -1, -1, -1, -1, -1, -1, -1, -1, -1, -1, -1, -1, -1, -1, -1, -1, -1,\n",
       "       -1, -1, -1, -1, -1, -1, -1, -1, -1, -1, -1, -1, -1, -1, -1, -1, -1,\n",
       "       -1, -1, -1, -1, -1, -1, -1, -1, -1, -1, -1, -1, -1, -1, -1, -1, -1,\n",
       "       -1,  0, -1, -1, -1, -1, -1, -1, -1, -1, -1, -1, -1, -1, -1, -1, -1,\n",
       "       -1, -1, -1, -1, -1, -1,  0, -1, -1, -1, -1, -1, -1, -1, -1, -1, -1,\n",
       "       -1, -1, -1, -1, -1, -1, -1, -1, -1, -1, -1, -1, -1, -1, -1,  1, -1,\n",
       "       -1, -1, -1, -1, -1, -1, -1, -1, -1, -1, -1, -1, -1, -1, -1,  0, -1,\n",
       "       -1, -1, -1, -1, -1, -1, -1, -1, -1, -1, -1, -1, -1, -1, -1, -1, -1,\n",
       "       -1, -1, -1, -1, -1, -1, -1, -1, -1, -1, -1, -1, -1, -1,  0, -1, -1,\n",
       "       -1, -1, -1, -1, -1, -1,  1, -1, -1, -1, -1, -1, -1, -1, -1, -1, -1,\n",
       "       -1, -1, -1, -1, -1, -1, -1, -1, -1, -1, -1, -1,  0, -1, -1, -1, -1,\n",
       "       -1, -1, -1, -1, -1, -1, -1, -1,  1, -1, -1,  1, -1, -1, -1, -1, -1,\n",
       "       -1, -1, -1, -1, -1,  0, -1, -1, -1, -1, -1, -1, -1, -1, -1, -1, -1,\n",
       "       -1, -1, -1, -1, -1, -1, -1, -1, -1, -1, -1,  0, -1, -1, -1, -1, -1,\n",
       "       -1, -1, -1, -1, -1, -1, -1, -1, -1, -1, -1, -1,  1, -1, -1, -1, -1,\n",
       "       -1, -1, -1, -1, -1, -1, -1, -1, -1, -1, -1, -1, -1, -1, -1,  1, -1,\n",
       "       -1, -1, -1, -1, -1, -1, -1, -1, -1, -1, -1, -1, -1, -1, -1, -1, -1,\n",
       "       -1, -1, -1, -1, -1, -1, -1, -1, -1, -1, -1, -1, -1, -1, -1, -1, -1,\n",
       "       -1, -1, -1, -1, -1, -1, -1, -1, -1, -1, -1, -1, -1, -1, -1, -1, -1,\n",
       "       -1, -1, -1, -1, -1, -1, -1, -1,  1, -1, -1, -1, -1, -1, -1, -1, -1,\n",
       "       -1, -1, -1, -1, -1, -1, -1, -1, -1, -1, -1, -1, -1, -1, -1, -1, -1,\n",
       "       -1, -1, -1, -1, -1, -1, -1, -1, -1, -1, -1, -1, -1, -1, -1, -1, -1,\n",
       "       -1, -1, -1, -1, -1, -1, -1, -1, -1, -1, -1, -1, -1, -1, -1, -1, -1,\n",
       "       -1])"
      ]
     },
     "execution_count": 37,
     "metadata": {},
     "output_type": "execute_result"
    }
   ],
   "source": [
    "dbs.labels_"
   ]
  },
  {
   "cell_type": "code",
   "execution_count": 38,
   "metadata": {},
   "outputs": [
    {
     "data": {
      "text/plain": [
       "<matplotlib.collections.PathCollection at 0x1a183374e0>"
      ]
     },
     "execution_count": 38,
     "metadata": {},
     "output_type": "execute_result"
    },
    {
     "data": {
      "image/png": "[encoded data removed]",
      "text/plain": [
       "<Figure size 432x288 with 1 Axes>"
      ]
     },
     "metadata": {
      "needs_background": "light"
     },
     "output_type": "display_data"
    }
   ],
   "source": [
    "plt.scatter(rfm['detections'], rfm['seconds'], c=dbs.labels_,linewidths=0)"
   ]
  },
  {
   "cell_type": "code",
   "execution_count": 39,
   "metadata": {},
   "outputs": [
    {
     "data": {
      "text/plain": [
       "<matplotlib.collections.PathCollection at 0x1a1838efd0>"
      ]
     },
     "execution_count": 39,
     "metadata": {},
     "output_type": "execute_result"
    },
    {
     "data": {
      "image/png": "[encoded data removed]",
      "text/plain": [
       "<Figure size 432x288 with 1 Axes>"
      ]
     },
     "metadata": {
      "needs_background": "light"
     },
     "output_type": "display_data"
    }
   ],
   "source": [
    "plt.scatter(rfm['recency'], rfm['detections'], c=dbs.labels_,linewidths=0)"
   ]
  },
  {
   "cell_type": "markdown",
   "metadata": {},
   "source": [
    "DBSCAN seems to yield very bad results here..."
   ]
  },
  {
   "cell_type": "markdown",
   "metadata": {},
   "source": [
    "## Hierarchical (TBD)"
   ]
  },
  {
   "cell_type": "code",
   "execution_count": 40,
   "metadata": {},
   "outputs": [],
   "source": [
    "from scipy.cluster.hierarchy import linkage, dendrogram, fcluster"
   ]
  },
  {
   "cell_type": "code",
   "execution_count": 41,
   "metadata": {},
   "outputs": [],
   "source": [
    "Z = linkage(rfm, 'ward') #'single', 'ward', ..."
   ]
  },
  {
   "cell_type": "code",
   "execution_count": 42,
   "metadata": {},
   "outputs": [
    {
     "data": {
      "image/png": "[encoded data removed]",
      "text/plain": [
       "<Figure size 1008x504 with 1 Axes>"
      ]
     },
     "metadata": {
      "needs_background": "light"
     },
     "output_type": "display_data"
    }
   ],
   "source": [
    "plt.figure(figsize=(14, 7))\n",
    "dendrogram(Z)\n",
    "plt.show()"
   ]
  },
  {
   "cell_type": "code",
   "execution_count": 43,
   "metadata": {},
   "outputs": [
    {
     "data": {
      "text/plain": [
       "(array([ 1,  2,  3,  4,  5,  6,  7,  8,  9, 10], dtype=int32),\n",
       " array([89, 28, 74, 36, 31, 34, 27, 27, 44, 36]))"
      ]
     },
     "execution_count": 43,
     "metadata": {},
     "output_type": "execute_result"
    }
   ],
   "source": [
    "cut_distance = 5000\n",
    "clusters_hc = fcluster(Z, t = cut_distance, criterion='distance')\n",
    "np.unique(clusters_hc, return_counts = True)"
   ]
  },
  {
   "cell_type": "markdown",
   "metadata": {},
   "source": [
    "## Statistics"
   ]
  },
  {
   "cell_type": "markdown",
   "metadata": {},
   "source": [
    "Repetition rate (percentage)"
   ]
  },
  {
   "cell_type": "code",
   "execution_count": 44,
   "metadata": {},
   "outputs": [
    {
     "data": {
      "text/plain": [
       "13.849765258215962"
      ]
     },
     "execution_count": 44,
     "metadata": {},
     "output_type": "execute_result"
    }
   ],
   "source": [
    "rfm[rfm['count_score']>1].count()['cluster'] * 100/rfm.count()['cluster']"
   ]
  },
  {
   "cell_type": "markdown",
   "metadata": {},
   "source": [
    "Median stay (seconds)"
   ]
  },
  {
   "cell_type": "code",
   "execution_count": 45,
   "metadata": {},
   "outputs": [
    {
     "data": {
      "text/plain": [
       "3700.0"
      ]
     },
     "execution_count": 45,
     "metadata": {},
     "output_type": "execute_result"
    }
   ],
   "source": [
    "np.median(rfm[rfm['detections']==1]['seconds'])"
   ]
  },
  {
   "cell_type": "code",
   "execution_count": 46,
   "metadata": {},
   "outputs": [
    {
     "data": {
      "text/plain": [
       "5150.0"
      ]
     },
     "execution_count": 46,
     "metadata": {},
     "output_type": "execute_result"
    }
   ],
   "source": [
    "np.median(rfm[rfm['detections']>1]['seconds'])"
   ]
  },
  {
   "cell_type": "markdown",
   "metadata": {},
   "source": [
    "Median recency (days)"
   ]
  },
  {
   "cell_type": "code",
   "execution_count": 47,
   "metadata": {},
   "outputs": [
    {
     "data": {
      "text/plain": [
       "99.0"
      ]
     },
     "execution_count": 47,
     "metadata": {},
     "output_type": "execute_result"
    }
   ],
   "source": [
    "np.median(rfm[rfm['detections']>1]['recency'])"
   ]
  },
  {
   "cell_type": "markdown",
   "metadata": {},
   "source": [
    "Median repetitions (when someone repeats)"
   ]
  },
  {
   "cell_type": "code",
   "execution_count": 48,
   "metadata": {},
   "outputs": [
    {
     "data": {
      "text/plain": [
       "3.0"
      ]
     },
     "execution_count": 48,
     "metadata": {},
     "output_type": "execute_result"
    }
   ],
   "source": [
    "np.median(aggregations[aggregations['detections_count']>1]['detections_count'])"
   ]
  },
  {
   "cell_type": "code",
   "execution_count": 49,
   "metadata": {},
   "outputs": [
    {
     "data": {
      "text/plain": [
       "3.0"
      ]
     },
     "execution_count": 49,
     "metadata": {},
     "output_type": "execute_result"
    }
   ],
   "source": [
    "np.median(rfm[rfm['detections']>1]['detections'])"
   ]
  },
  {
   "cell_type": "markdown",
   "metadata": {},
   "source": [
    "## Time series for repetitions and stay"
   ]
  },
  {
   "cell_type": "code",
   "execution_count": 50,
   "metadata": {},
   "outputs": [],
   "source": [
    "start = pd.to_datetime(min(df['date']))\n",
    "end = pd.to_datetime(max(df['date']))"
   ]
  },
  {
   "cell_type": "code",
   "execution_count": 51,
   "metadata": {},
   "outputs": [],
   "source": [
    "def getRepetitionsAndStay(date):\n",
    "    today = start\n",
    "    total = 0\n",
    "    repeated = 0\n",
    "    stay = 0\n",
    "    \n",
    "    timeFiltered = filteredMacs[filteredMacs['date'] <= date.strftime('%Y-%m-%d')]\n",
    "    \n",
    "    aggregations = timeFiltered.groupby('mac').agg({'seconds' : ['mean'], 'detections' : ['count']})\n",
    "    aggregations.columns = ['_'.join(col).strip() for col in aggregations.columns.values]\n",
    "    \n",
    "    \n",
    "    sliceCount = aggregations[aggregations['detections_count']>1]\n",
    "\n",
    "    return ({'date':date,'repetitions':sliceCount['detections_count'].count(),'total':aggregations['detections_count'].count(),'secondsMean':aggregations['seconds_mean'].mean()})\n",
    "    \n",
    "    "
   ]
  },
  {
   "cell_type": "code",
   "execution_count": 52,
   "metadata": {},
   "outputs": [],
   "source": [
    "today = start\n",
    "\n",
    "timeSeries = []\n",
    "while today <= end:        \n",
    "    timeSeries.append(getRepetitionsAndStay(today))\n",
    "    today = (today + pd.DateOffset(days=1))"
   ]
  },
  {
   "cell_type": "code",
   "execution_count": 53,
   "metadata": {},
   "outputs": [],
   "source": [
    "timeSeries = pd.DataFrame(timeSeries)"
   ]
  },
  {
   "cell_type": "code",
   "execution_count": 54,
   "metadata": {},
   "outputs": [],
   "source": [
    "timeSeries.to_csv(\"/tmp/wifi_recurrency.csv\")"
   ]
  },
  {
   "cell_type": "code",
   "execution_count": 55,
   "metadata": {},
   "outputs": [],
   "source": [
    "rfm.to_csv(\"/tmp/wifi_rfs.csv\")"
   ]
  },
  {
   "cell_type": "code",
   "execution_count": null,
   "metadata": {},
   "outputs": [],
   "source": []
  }
 ],
 "metadata": {
  "kernelspec": {
   "display_name": "Python 3",
   "language": "python",
   "name": "python3"
  },
  "language_info": {
   "codemirror_mode": {
    "name": "ipython",
    "version": 3
   },
   "file_extension": ".py",
   "mimetype": "text/x-python",
   "name": "python",
   "nbconvert_exporter": "python",
   "pygments_lexer": "ipython3",
   "version": "3.7.2"
  }
 },
 "nbformat": 4,
 "nbformat_minor": 2
}
